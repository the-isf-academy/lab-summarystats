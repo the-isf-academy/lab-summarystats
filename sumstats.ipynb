{
 "cells": [
  {
   "cell_type": "markdown",
   "metadata": {},
   "source": [
    "# Lab 01.04 Summary Statistics"
   ]
  },
  {
   "cell_type": "markdown",
   "metadata": {},
   "source": [
    "# Set Up Your Data"
   ]
  },
  {
   "cell_type": "code",
   "execution_count": 3,
   "metadata": {},
   "outputs": [],
   "source": [
    "import pandas as pd\n",
    "import matplotlib.pyplot as plt\n",
    "import numpy as np"
   ]
  },
  {
   "cell_type": "markdown",
   "metadata": {},
   "source": [
    "*Side note:*\n",
    "\n",
    "<img src=\"https://revisionworld.com/sites/revisionworld.com/files/imce/sdeviation2.gif\">\n",
    "\n",
    "**What is numpy, and why are we importing it?**\n",
    "It's a python library that helps us do mathematical calculations. \n",
    "\n",
    "You'll learn more about these libraries at the end of this unit."
   ]
  },
  {
   "cell_type": "markdown",
   "metadata": {},
   "source": [
    "## Data\n",
    "\n",
    "Here's are two small lists that you can run as tests when you develop your code.\n",
    "\n",
    "💻 **For the odd data set, put in 7 elements. Each number is the amount of sleep per night you got in the past week.**"
   ]
  },
  {
   "cell_type": "code",
   "execution_count": 65,
   "metadata": {},
   "outputs": [],
   "source": [
    "sleep_data = [6,6,7,7,5,6,6]\n",
    "even_data = [100,200,300,400,500,600]"
   ]
  },
  {
   "cell_type": "markdown",
   "metadata": {},
   "source": [
    "## Sorting the data\n",
    "Often, we will want our data to be sorted. This will help us search through the data and will also help us calculate statistics like the median.\n",
    "\n",
    "We can easily accomplish this with the `sorted()` function:"
   ]
  },
  {
   "cell_type": "code",
   "execution_count": 66,
   "metadata": {},
   "outputs": [
    {
     "data": {
      "text/plain": [
       "[5, 6, 6, 6, 6, 7, 7]"
      ]
     },
     "execution_count": 66,
     "metadata": {},
     "output_type": "execute_result"
    }
   ],
   "source": [
    "odd_data = sorted(sleep_data)\n",
    "even_data = sorted(even_data)\n",
    "\n",
    "odd_data"
   ]
  },
  {
   "cell_type": "markdown",
   "metadata": {},
   "source": [
    "# Calculate The Central Tendency, aka Middle"
   ]
  },
  {
   "cell_type": "markdown",
   "metadata": {},
   "source": [
    "👀  **The median, mean, and mode are calculations we can use to identify the middles. They'll give us slightly different answers, depending on the data set.**"
   ]
  },
  {
   "cell_type": "markdown",
   "metadata": {},
   "source": [
    "<img src = \"https://www.payscale.com/data/wp-content/uploads/sites/8/2018/06/mode-median-mean.gif\">"
   ]
  },
  {
   "cell_type": "markdown",
   "metadata": {},
   "source": [
    "## The mean"
   ]
  },
  {
   "cell_type": "markdown",
   "metadata": {},
   "source": [
    "First, we'll write a function to calculate the mean of a dataset. Remember that the mean is the central value of a discrete set of numbers: specifically, **the sum of the values divided by the number of values.**"
   ]
  },
  {
   "cell_type": "markdown",
   "metadata": {},
   "source": [
    "💻 Write the mean function and any helper functions you'll need."
   ]
  },
  {
   "cell_type": "code",
   "execution_count": 67,
   "metadata": {},
   "outputs": [],
   "source": [
    "def calculate_mean(list_of_numbers):\n",
    "    \"\"\"\n",
    "    Returns the average (mean) of a list of numbers.\n",
    "    input: list of ints (or floats)\n",
    "    output: float\n",
    "    \"\"\"\n",
    "    return sum(list_of_numbers)/len(list_of_numbers)"
   ]
  },
  {
   "cell_type": "markdown",
   "metadata": {},
   "source": [
    "✅✅ Test: Use your function to calculate the mean of the small data list. Is it the same as your hand calculations?"
   ]
  },
  {
   "cell_type": "code",
   "execution_count": 68,
   "metadata": {},
   "outputs": [
    {
     "data": {
      "text/plain": [
       "6.142857142857143"
      ]
     },
     "execution_count": 68,
     "metadata": {},
     "output_type": "execute_result"
    }
   ],
   "source": [
    "calculate_mean(odd_data)"
   ]
  },
  {
   "cell_type": "code",
   "execution_count": 69,
   "metadata": {
    "scrolled": true
   },
   "outputs": [
    {
     "data": {
      "text/plain": [
       "350.0"
      ]
     },
     "execution_count": 69,
     "metadata": {},
     "output_type": "execute_result"
    }
   ],
   "source": [
    "calculate_mean(even_data)"
   ]
  },
  {
   "cell_type": "markdown",
   "metadata": {},
   "source": [
    " ## The median"
   ]
  },
  {
   "cell_type": "markdown",
   "metadata": {},
   "source": [
    "Next, we'll calculate the median of our data. As a reminder, the median is the middle number in a sorted, ascending or descending, list of numbers.\n",
    "\n",
    "*Tip: consider the the possible cases of our data. How do you calculate the median of an even amount of data? Of an odd amount of data?*"
   ]
  },
  {
   "cell_type": "markdown",
   "metadata": {},
   "source": [
    "💻 Write the median function and any helper functions you'll need:"
   ]
  },
  {
   "cell_type": "code",
   "execution_count": 73,
   "metadata": {},
   "outputs": [],
   "source": [
    "def calculate_median(sorted_list):\n",
    "    \"\"\"\n",
    "    Takes the sorted list, returns the median of the list\n",
    "    input: list of ints(or floats)\n",
    "    output: integer (or float)\n",
    "    \"\"\"\n",
    "    if len(sorted_list)%2 == 0:\n",
    "        left = sorted_list[len(sorted_list)//2-1]\n",
    "        right = sorted_list[len(sorted_list)//2]\n",
    "        return calculate_mean([left, right])\n",
    "    return sorted_list[len(sorted_list)//2]"
   ]
  },
  {
   "cell_type": "markdown",
   "metadata": {},
   "source": [
    "✅✅ Test: Use your function to calculate the median of the small data list. Is it the same as your hand calculations?"
   ]
  },
  {
   "cell_type": "code",
   "execution_count": 74,
   "metadata": {},
   "outputs": [
    {
     "data": {
      "text/plain": [
       "6"
      ]
     },
     "execution_count": 74,
     "metadata": {},
     "output_type": "execute_result"
    }
   ],
   "source": [
    "calculate_median(odd_data)"
   ]
  },
  {
   "cell_type": "code",
   "execution_count": 75,
   "metadata": {},
   "outputs": [
    {
     "data": {
      "text/plain": [
       "350.0"
      ]
     },
     "execution_count": 75,
     "metadata": {},
     "output_type": "execute_result"
    }
   ],
   "source": [
    "calculate_median(even_data)"
   ]
  },
  {
   "cell_type": "markdown",
   "metadata": {},
   "source": [
    "## The mode"
   ]
  },
  {
   "cell_type": "markdown",
   "metadata": {},
   "source": [
    "💻 Write the mode function and the helper function, create_counts_dict"
   ]
  },
  {
   "cell_type": "markdown",
   "metadata": {},
   "source": [
    "<img src = \"https://mediadc.brightspotcdn.com/dims4/default/a12d362/2147483647/strip/true/crop/2400x1264+0+0/resize/2400x1264!/quality/90/?url=https%3A%2F%2Fmediadc.brightspotcdn.com%2F14%2F0d%2F29f5ea424f6fa447310a14d6362c%2F03-skinner-openbooks.jpg\" style=\"width:500px\">\n",
    "\n",
    "**Dictionary alert: You may want to use a dictionary to solve this problem.**"
   ]
  },
  {
   "cell_type": "code",
   "execution_count": 76,
   "metadata": {},
   "outputs": [],
   "source": [
    "def create_counts_dict(list_of_numbers):\n",
    "    \"\"\"\n",
    "    Returns a dictionary that contains each item of the list (as a key) and how often they appear (as the value)\n",
    "    \"\"\"\n",
    "    counts = {}\n",
    "    for element in list_of_numbers:\n",
    "        if element not in counts:\n",
    "            counts[element] = 1\n",
    "        else:\n",
    "            counts[element] += 1\n",
    "    return counts\n",
    "\n",
    "def calculate_mode(list_of_numbers):\n",
    "    \"\"\"\n",
    "    Returns the number that occurred most often in the list of numbers. \n",
    "    If there is more than one mode (or no mode), the first one to appear in the list is returned.\n",
    "    input: list of ints (or floats)\n",
    "    output: float\n",
    "    \"\"\"\n",
    "    counts = create_counts_dict(list_of_numbers)\n",
    "    max_count = -1\n",
    "    max_key = None\n",
    "    for key, count in counts.items():\n",
    "        if count > max_count:\n",
    "            max_count = count\n",
    "            max_key = key\n",
    "    return max_key"
   ]
  },
  {
   "cell_type": "markdown",
   "metadata": {},
   "source": [
    "✅✅ Test: Use your function to calculate the mode of the small data list. Is it the same as your hand calculations?"
   ]
  },
  {
   "cell_type": "code",
   "execution_count": 77,
   "metadata": {},
   "outputs": [
    {
     "data": {
      "text/plain": [
       "{5: 1, 6: 4, 7: 2}"
      ]
     },
     "execution_count": 77,
     "metadata": {},
     "output_type": "execute_result"
    }
   ],
   "source": [
    "create_counts_dict(odd_data)"
   ]
  },
  {
   "cell_type": "code",
   "execution_count": 78,
   "metadata": {},
   "outputs": [
    {
     "data": {
      "text/plain": [
       "6"
      ]
     },
     "execution_count": 78,
     "metadata": {},
     "output_type": "execute_result"
    }
   ],
   "source": [
    "calculate_mode(odd_data)"
   ]
  },
  {
   "cell_type": "code",
   "execution_count": 79,
   "metadata": {},
   "outputs": [
    {
     "data": {
      "text/plain": [
       "100"
      ]
     },
     "execution_count": 79,
     "metadata": {},
     "output_type": "execute_result"
    }
   ],
   "source": [
    "calculate_mode(even_data)"
   ]
  },
  {
   "cell_type": "markdown",
   "metadata": {},
   "source": [
    "# Calculating Spread"
   ]
  },
  {
   "cell_type": "markdown",
   "metadata": {},
   "source": [
    "<img src = \"https://soupsahoy.files.wordpress.com/2015/01/hk-french-toast_2.jpg\">"
   ]
  },
  {
   "cell_type": "markdown",
   "metadata": {},
   "source": [
    "##  What is spread?\n",
    "\n",
    "👀 You can have it with toast and statistics.\n",
    "\n",
    "It turns out that the central tendency of the dataset doesn't tell us the whole story.\n",
    "\n",
    "For example, consider the red dataset and the blue dataset. They have the same middle (both mean and median = 7), but one has much higher spread than the other.\n",
    "\n",
    "**Which dataset is your sleep schedule more like? What kind of spread do you have?**"
   ]
  },
  {
   "cell_type": "markdown",
   "metadata": {},
   "source": [
    "<img src=\"https://i.imgur.com/hw9yRAK.png\" style=\"width:500px\">"
   ]
  },
  {
   "cell_type": "markdown",
   "metadata": {},
   "source": [
    "*(Optional) Explore mean and median [here](https://teacher.desmos.com/activitybuilder/custom/5733262bfd802215069a40c0#preview/c150c31c-cac4-4b2b-8753-d0aea1ce3aa1)*"
   ]
  },
  {
   "cell_type": "markdown",
   "metadata": {},
   "source": [
    "## Interquartile range (IQR)"
   ]
  },
  {
   "cell_type": "markdown",
   "metadata": {},
   "source": [
    "👀 A quartile divides the number of data points into four parts, or quarters, of more-or-less equal size.\n",
    "\n",
    "The lower quartile is the first quarter of the data, and the upper quartile is the last quarter of the data.\n",
    "\n",
    "The IQR is equal to the value at the bottom of the upper quartile (Q3) minus the value at the top of the lower quartile (Q1). **This number will tells us how far the upper and lower quartile are from the median.** \n",
    "\n",
    "Calculating the IQR helps us understand the spread of our data because it allows us the see how large the gap is between the lower quartile of our data and the upper quartile of our data. The larger the gap, the more our data must be spread out."
   ]
  },
  {
   "cell_type": "markdown",
   "metadata": {},
   "source": [
    "<img src = \"https://www.simplypsychology.org/IQR.jpg\">"
   ]
  },
  {
   "cell_type": "markdown",
   "metadata": {},
   "source": [
    "### List slicing\n",
    "Since the IQR uses smaller parts of a dataset, we're going to need to find a way to get specific sections of a list. We can accomplish this with list *slicing*."
   ]
  },
  {
   "cell_type": "code",
   "execution_count": 118,
   "metadata": {},
   "outputs": [
    {
     "data": {
      "text/plain": [
       "[5, 6, 6, 6, 6, 7, 7]"
      ]
     },
     "execution_count": 118,
     "metadata": {},
     "output_type": "execute_result"
    }
   ],
   "source": [
    "odd_data"
   ]
  },
  {
   "cell_type": "markdown",
   "metadata": {},
   "source": [
    "To get everything from the beginning of a list up to (but not including) a particular index, you can leave out the first number:"
   ]
  },
  {
   "cell_type": "markdown",
   "metadata": {},
   "source": [
    "To get a particular section of a list, we can put two numbers into the `[]` operator separated by a `:`:\n",
    "\n",
    "`mylist[start_index:stop_index]`"
   ]
  },
  {
   "cell_type": "code",
   "execution_count": 119,
   "metadata": {},
   "outputs": [
    {
     "data": {
      "text/plain": [
       "[6, 6]"
      ]
     },
     "execution_count": 119,
     "metadata": {},
     "output_type": "execute_result"
    }
   ],
   "source": [
    "odd_data[1:3]"
   ]
  },
  {
   "cell_type": "markdown",
   "metadata": {},
   "source": [
    "*Notice that the element at index 3 is not included in the slice, only the elements up to 3.*"
   ]
  },
  {
   "cell_type": "markdown",
   "metadata": {},
   "source": [
    "To get everything from the beginning of a list up to (but not including) a particular index, you can leave out the first number:"
   ]
  },
  {
   "cell_type": "code",
   "execution_count": 120,
   "metadata": {},
   "outputs": [
    {
     "data": {
      "text/plain": [
       "[5, 6, 6]"
      ]
     },
     "execution_count": 120,
     "metadata": {},
     "output_type": "execute_result"
    }
   ],
   "source": [
    "odd_data[:3]"
   ]
  },
  {
   "cell_type": "markdown",
   "metadata": {},
   "source": [
    "To get everything from a particular index (inclusive) to the end of a list, you can leave out the second number:"
   ]
  },
  {
   "cell_type": "code",
   "execution_count": 121,
   "metadata": {},
   "outputs": [
    {
     "data": {
      "text/plain": [
       "[6, 6, 7, 7]"
      ]
     },
     "execution_count": 121,
     "metadata": {},
     "output_type": "execute_result"
    }
   ],
   "source": [
    "odd_data[3:]"
   ]
  },
  {
   "cell_type": "markdown",
   "metadata": {},
   "source": [
    "### Find quartiles"
   ]
  },
  {
   "cell_type": "markdown",
   "metadata": {},
   "source": [
    "In order to find the IQR, first we need to be able to find the top value of the lower quartile (Q1) and the bottom value of the upper quartile (Q3) of our data.\n",
    "\n",
    "💻 Write functions to find Q1 below:"
   ]
  },
  {
   "cell_type": "code",
   "execution_count": 122,
   "metadata": {},
   "outputs": [],
   "source": [
    "def below_median(sorted_list):\n",
    "    \"\"\"\n",
    "    Returns just the part of the sorted list which is below the median.\n",
    "    input: list of ints (or floats)\n",
    "    output: list of ints (or floats)\n",
    "    \"\"\"\n",
    "    first_half_end_index = int(len(sorted_list) / 2)\n",
    "    return sorted_list[: first_half_end_index]\n",
    "\n",
    "def calculate_Q1(sorted_list):\n",
    "    \"\"\"\n",
    "    Takes the sorted list, returns the lower quartile of the list,\n",
    "    which is defined as the median of the data points to the left of the median\n",
    "    input: list of ints (or floats)\n",
    "    output: integer (or float)\n",
    "    \"\"\"\n",
    "    \n",
    "    first_half = below_median(sorted_list)\n",
    "    return calculate_median(first_half)"
   ]
  },
  {
   "cell_type": "markdown",
   "metadata": {},
   "source": [
    "💻 Write functions to find Q3 below:"
   ]
  },
  {
   "cell_type": "code",
   "execution_count": 108,
   "metadata": {},
   "outputs": [],
   "source": [
    "def above_median(sorted_list):\n",
    "    \"\"\"\n",
    "    Returns just the part of the sorted list which is above the median.\n",
    "    input: list of ints (or floats)\n",
    "    output: list of ints (or floats)\n",
    "    \"\"\"\n",
    "    if len(sorted_list)%2 == 0: # if the list is even\n",
    "        last_half_end_index = int(len(sorted_list) / 2)\n",
    "    else:\n",
    "        last_half_end_index = int(len(sorted_list) / 2) + 1\n",
    "    return sorted_list[last_half_end_index:]\n",
    "\n",
    "def calculate_Q3(sorted_list):\n",
    "    \"\"\"\n",
    "    Takes the sorted list, returns the upper quartile of the list,\n",
    "    which is defined as the median of the data points to the right of the median.\n",
    "    input: list of ints(or floats)\n",
    "    output: integer (or float)\n",
    "    \"\"\"\n",
    "    last_half_list = above_median(sorted_list)\n",
    "    return calculate_median(last_half_list)\n"
   ]
  },
  {
   "cell_type": "markdown",
   "metadata": {},
   "source": [
    "### Calculating IQR"
   ]
  },
  {
   "cell_type": "markdown",
   "metadata": {},
   "source": [
    "Now that we can find Q1 and Q3, we can easily calculate the difference between these two values in order to find the IQR.\n",
    "\n",
    "💻 Write the function calculate IQR below:"
   ]
  },
  {
   "cell_type": "code",
   "execution_count": 109,
   "metadata": {},
   "outputs": [],
   "source": [
    "def calculate_IQR(sorted_list):\n",
    "    \"\"\"\n",
    "    Takes the sorted list, calculates Q1 and Q3, and returns the difference between Q3 and Q1, which is the interquartile range. \n",
    "    input: list of ints(or floats)\n",
    "    output: integer (or float)\n",
    "    \"\"\"\n",
    "    q1 = calculate_Q1(sorted_list)\n",
    "    q3 = calculate_Q3(sorted_list)\n",
    "    return q3-q1\n"
   ]
  },
  {
   "cell_type": "markdown",
   "metadata": {},
   "source": [
    "✅✅ Test: Use your function to calculate the interquartile of the small data list. Is it the same as your hand calculations?"
   ]
  },
  {
   "cell_type": "code",
   "execution_count": 110,
   "metadata": {},
   "outputs": [
    {
     "data": {
      "text/plain": [
       "1"
      ]
     },
     "execution_count": 110,
     "metadata": {},
     "output_type": "execute_result"
    }
   ],
   "source": [
    "calculate_IQR(odd_data)"
   ]
  },
  {
   "cell_type": "code",
   "execution_count": 111,
   "metadata": {},
   "outputs": [
    {
     "data": {
      "text/plain": [
       "300"
      ]
     },
     "execution_count": 111,
     "metadata": {},
     "output_type": "execute_result"
    }
   ],
   "source": [
    "calculate_IQR(even_data)"
   ]
  },
  {
   "cell_type": "markdown",
   "metadata": {},
   "source": [
    "## Percentiles"
   ]
  },
  {
   "cell_type": "markdown",
   "metadata": {},
   "source": [
    "👀 A percentile is a value at or below which a given percentage of all the values in the dataset fall.\n",
    "\n",
    "**This statistic helps you understand how you rank compared to everyone else. For example, if you are at the 80th percentile for height, that means you rank higher than 80% of people.**\n",
    "\n",
    "<img src=\"https://www.mathsisfun.com/data/images/percentile-80.svg\">\n",
    "\n",
    "You just calculated the value at the 25th percentile (Q1), the value at the 50th percentile (the median/Q2), and the value at the 75th percentile (Q3).\n",
    "\n",
    "**These are very useful statistics, but what about the other 97 percentiles?**\n",
    "\n",
    "\n",
    "<img src= \"http://my.ilstu.edu/~gjin/hsc204-eh/Module-5-Summary-Measure-2/Figure-3-8.png\">"
   ]
  },
  {
   "cell_type": "markdown",
   "metadata": {},
   "source": [
    "**We could create a function ourselves to calculate the percentile...**\n",
    "\n",
    "**👀 But let's check out the numpy library's percentile: https://stackoverflow.com/questions/2374640/how-do-i-calculate-percentiles-with-python-numpy**"
   ]
  },
  {
   "cell_type": "markdown",
   "metadata": {},
   "source": [
    "💻 Use this function to calculate what the 90th percentile would be for the small odd data list:"
   ]
  },
  {
   "cell_type": "code",
   "execution_count": 161,
   "metadata": {},
   "outputs": [
    {
     "data": {
      "text/plain": [
       "7.0"
      ]
     },
     "execution_count": 161,
     "metadata": {},
     "output_type": "execute_result"
    }
   ],
   "source": [
    "np.percentile(odd_data, 90)"
   ]
  },
  {
   "cell_type": "markdown",
   "metadata": {},
   "source": [
    "💻 What about the 10th percentile?"
   ]
  },
  {
   "cell_type": "code",
   "execution_count": 124,
   "metadata": {},
   "outputs": [
    {
     "data": {
      "text/plain": [
       "5.6"
      ]
     },
     "execution_count": 124,
     "metadata": {},
     "output_type": "execute_result"
    }
   ],
   "source": [
    "np.percentile(odd_data, 10)"
   ]
  },
  {
   "cell_type": "markdown",
   "metadata": {},
   "source": [
    "# Bigger Data\n",
    "Now that you've tested your code for generating summary statistics on some small datasets, lets try them on a larger dataset: the social media data we collected!\n",
    "\n",
    "To do this, we'll use a library called pandas:"
   ]
  },
  {
   "cell_type": "code",
   "execution_count": 153,
   "metadata": {},
   "outputs": [],
   "source": [
    "import pandas as pd"
   ]
  },
  {
   "cell_type": "markdown",
   "metadata": {},
   "source": [
    "<img src=\"https://miro.medium.com/max/2550/1*6d5dw6dPhy4vBp2vRW6uzw.png\" width=\"500\" height=\"100\" />\n",
    "\n",
    "**What is pandas, and why are we importing it?**\n",
    "\n",
    "It's a python library that helps us organize and access our data set into an object called a dataframe, or df for short."
   ]
  },
  {
   "cell_type": "code",
   "execution_count": 155,
   "metadata": {},
   "outputs": [
    {
     "data": {
      "text/html": [
       "<div>\n",
       "<style scoped>\n",
       "    .dataframe tbody tr th:only-of-type {\n",
       "        vertical-align: middle;\n",
       "    }\n",
       "\n",
       "    .dataframe tbody tr th {\n",
       "        vertical-align: top;\n",
       "    }\n",
       "\n",
       "    .dataframe thead th {\n",
       "        text-align: right;\n",
       "    }\n",
       "</style>\n",
       "<table border=\"1\" class=\"dataframe\">\n",
       "  <thead>\n",
       "    <tr style=\"text-align: right;\">\n",
       "      <th></th>\n",
       "      <th>timestamp</th>\n",
       "      <th>grade</th>\n",
       "      <th>sm_time</th>\n",
       "      <th>sm_accounts</th>\n",
       "      <th>sm_platform_facebook</th>\n",
       "      <th>sm_platform_instagram</th>\n",
       "      <th>sm_platform_snapchat</th>\n",
       "      <th>sm_platform_tiktok</th>\n",
       "      <th>sm_platform_twitter</th>\n",
       "      <th>sm_platform_discord</th>\n",
       "      <th>...</th>\n",
       "      <th>sm_celebs_rubius</th>\n",
       "      <th>sm_celebs_zurita</th>\n",
       "      <th>sm_celebs_beauty</th>\n",
       "      <th>sm_celebs_logan_paul</th>\n",
       "      <th>sm_celebs_charles</th>\n",
       "      <th>sm_celebs_perfect</th>\n",
       "      <th>sm_celebs_markiplier</th>\n",
       "      <th>sm_celebs_pewdiepie</th>\n",
       "      <th>sm_strangers</th>\n",
       "      <th>sm_hacked</th>\n",
       "    </tr>\n",
       "  </thead>\n",
       "  <tbody>\n",
       "    <tr>\n",
       "      <th>0</th>\n",
       "      <td>10/15/2019 15:51:09</td>\n",
       "      <td>6.0</td>\n",
       "      <td>4.0</td>\n",
       "      <td>5.0</td>\n",
       "      <td>0</td>\n",
       "      <td>1</td>\n",
       "      <td>0</td>\n",
       "      <td>0</td>\n",
       "      <td>0</td>\n",
       "      <td>1</td>\n",
       "      <td>...</td>\n",
       "      <td>0</td>\n",
       "      <td>0</td>\n",
       "      <td>0</td>\n",
       "      <td>0</td>\n",
       "      <td>0</td>\n",
       "      <td>0</td>\n",
       "      <td>0</td>\n",
       "      <td>1</td>\n",
       "      <td>0.0</td>\n",
       "      <td>0.0</td>\n",
       "    </tr>\n",
       "    <tr>\n",
       "      <th>1</th>\n",
       "      <td>10/15/2019 20:16:15</td>\n",
       "      <td>9.0</td>\n",
       "      <td>5.0</td>\n",
       "      <td>5.0</td>\n",
       "      <td>0</td>\n",
       "      <td>1</td>\n",
       "      <td>0</td>\n",
       "      <td>1</td>\n",
       "      <td>0</td>\n",
       "      <td>0</td>\n",
       "      <td>...</td>\n",
       "      <td>0</td>\n",
       "      <td>0</td>\n",
       "      <td>0</td>\n",
       "      <td>0</td>\n",
       "      <td>0</td>\n",
       "      <td>0</td>\n",
       "      <td>0</td>\n",
       "      <td>0</td>\n",
       "      <td>3.0</td>\n",
       "      <td>0.0</td>\n",
       "    </tr>\n",
       "    <tr>\n",
       "      <th>2</th>\n",
       "      <td>10/15/2019 21:47:27</td>\n",
       "      <td>9.0</td>\n",
       "      <td>2.0</td>\n",
       "      <td>NaN</td>\n",
       "      <td>0</td>\n",
       "      <td>1</td>\n",
       "      <td>0</td>\n",
       "      <td>0</td>\n",
       "      <td>0</td>\n",
       "      <td>1</td>\n",
       "      <td>...</td>\n",
       "      <td>0</td>\n",
       "      <td>0</td>\n",
       "      <td>0</td>\n",
       "      <td>0</td>\n",
       "      <td>0</td>\n",
       "      <td>0</td>\n",
       "      <td>0</td>\n",
       "      <td>0</td>\n",
       "      <td>2.0</td>\n",
       "      <td>0.0</td>\n",
       "    </tr>\n",
       "    <tr>\n",
       "      <th>3</th>\n",
       "      <td>10/15/2019 21:57:13</td>\n",
       "      <td>9.0</td>\n",
       "      <td>3.0</td>\n",
       "      <td>10.0</td>\n",
       "      <td>0</td>\n",
       "      <td>1</td>\n",
       "      <td>0</td>\n",
       "      <td>0</td>\n",
       "      <td>1</td>\n",
       "      <td>0</td>\n",
       "      <td>...</td>\n",
       "      <td>0</td>\n",
       "      <td>0</td>\n",
       "      <td>0</td>\n",
       "      <td>0</td>\n",
       "      <td>0</td>\n",
       "      <td>0</td>\n",
       "      <td>0</td>\n",
       "      <td>0</td>\n",
       "      <td>2.0</td>\n",
       "      <td>0.0</td>\n",
       "    </tr>\n",
       "    <tr>\n",
       "      <th>4</th>\n",
       "      <td>10/15/2019 22:20:56</td>\n",
       "      <td>9.0</td>\n",
       "      <td>2.0</td>\n",
       "      <td>6.0</td>\n",
       "      <td>0</td>\n",
       "      <td>1</td>\n",
       "      <td>0</td>\n",
       "      <td>0</td>\n",
       "      <td>0</td>\n",
       "      <td>1</td>\n",
       "      <td>...</td>\n",
       "      <td>0</td>\n",
       "      <td>0</td>\n",
       "      <td>0</td>\n",
       "      <td>0</td>\n",
       "      <td>0</td>\n",
       "      <td>0</td>\n",
       "      <td>0</td>\n",
       "      <td>0</td>\n",
       "      <td>0.0</td>\n",
       "      <td>0.0</td>\n",
       "    </tr>\n",
       "    <tr>\n",
       "      <th>...</th>\n",
       "      <td>...</td>\n",
       "      <td>...</td>\n",
       "      <td>...</td>\n",
       "      <td>...</td>\n",
       "      <td>...</td>\n",
       "      <td>...</td>\n",
       "      <td>...</td>\n",
       "      <td>...</td>\n",
       "      <td>...</td>\n",
       "      <td>...</td>\n",
       "      <td>...</td>\n",
       "      <td>...</td>\n",
       "      <td>...</td>\n",
       "      <td>...</td>\n",
       "      <td>...</td>\n",
       "      <td>...</td>\n",
       "      <td>...</td>\n",
       "      <td>...</td>\n",
       "      <td>...</td>\n",
       "      <td>...</td>\n",
       "      <td>...</td>\n",
       "    </tr>\n",
       "    <tr>\n",
       "      <th>351</th>\n",
       "      <td>11/5/2019 9:01:55</td>\n",
       "      <td>6.0</td>\n",
       "      <td>3.0</td>\n",
       "      <td>4.0</td>\n",
       "      <td>0</td>\n",
       "      <td>1</td>\n",
       "      <td>0</td>\n",
       "      <td>1</td>\n",
       "      <td>0</td>\n",
       "      <td>0</td>\n",
       "      <td>...</td>\n",
       "      <td>0</td>\n",
       "      <td>0</td>\n",
       "      <td>0</td>\n",
       "      <td>0</td>\n",
       "      <td>0</td>\n",
       "      <td>0</td>\n",
       "      <td>0</td>\n",
       "      <td>0</td>\n",
       "      <td>0.0</td>\n",
       "      <td>0.0</td>\n",
       "    </tr>\n",
       "    <tr>\n",
       "      <th>352</th>\n",
       "      <td>11/5/2019 11:44:52</td>\n",
       "      <td>9.0</td>\n",
       "      <td>1.0</td>\n",
       "      <td>3.0</td>\n",
       "      <td>0</td>\n",
       "      <td>0</td>\n",
       "      <td>0</td>\n",
       "      <td>0</td>\n",
       "      <td>1</td>\n",
       "      <td>0</td>\n",
       "      <td>...</td>\n",
       "      <td>0</td>\n",
       "      <td>0</td>\n",
       "      <td>0</td>\n",
       "      <td>0</td>\n",
       "      <td>0</td>\n",
       "      <td>0</td>\n",
       "      <td>0</td>\n",
       "      <td>0</td>\n",
       "      <td>2.0</td>\n",
       "      <td>1.0</td>\n",
       "    </tr>\n",
       "    <tr>\n",
       "      <th>353</th>\n",
       "      <td>11/5/2019 18:24:31</td>\n",
       "      <td>7.0</td>\n",
       "      <td>1.0</td>\n",
       "      <td>3.0</td>\n",
       "      <td>0</td>\n",
       "      <td>0</td>\n",
       "      <td>0</td>\n",
       "      <td>0</td>\n",
       "      <td>0</td>\n",
       "      <td>0</td>\n",
       "      <td>...</td>\n",
       "      <td>0</td>\n",
       "      <td>0</td>\n",
       "      <td>0</td>\n",
       "      <td>0</td>\n",
       "      <td>0</td>\n",
       "      <td>0</td>\n",
       "      <td>0</td>\n",
       "      <td>0</td>\n",
       "      <td>0.0</td>\n",
       "      <td>0.0</td>\n",
       "    </tr>\n",
       "    <tr>\n",
       "      <th>354</th>\n",
       "      <td>11/6/2019 21:30:38</td>\n",
       "      <td>11.0</td>\n",
       "      <td>4.0</td>\n",
       "      <td>6.0</td>\n",
       "      <td>0</td>\n",
       "      <td>1</td>\n",
       "      <td>1</td>\n",
       "      <td>0</td>\n",
       "      <td>1</td>\n",
       "      <td>0</td>\n",
       "      <td>...</td>\n",
       "      <td>0</td>\n",
       "      <td>0</td>\n",
       "      <td>0</td>\n",
       "      <td>0</td>\n",
       "      <td>0</td>\n",
       "      <td>0</td>\n",
       "      <td>0</td>\n",
       "      <td>0</td>\n",
       "      <td>2.0</td>\n",
       "      <td>0.0</td>\n",
       "    </tr>\n",
       "    <tr>\n",
       "      <th>355</th>\n",
       "      <td>11/7/2019 14:59:47</td>\n",
       "      <td>11.0</td>\n",
       "      <td>3.0</td>\n",
       "      <td>8.0</td>\n",
       "      <td>0</td>\n",
       "      <td>1</td>\n",
       "      <td>0</td>\n",
       "      <td>0</td>\n",
       "      <td>0</td>\n",
       "      <td>0</td>\n",
       "      <td>...</td>\n",
       "      <td>0</td>\n",
       "      <td>0</td>\n",
       "      <td>0</td>\n",
       "      <td>0</td>\n",
       "      <td>0</td>\n",
       "      <td>0</td>\n",
       "      <td>0</td>\n",
       "      <td>0</td>\n",
       "      <td>3.0</td>\n",
       "      <td>0.0</td>\n",
       "    </tr>\n",
       "  </tbody>\n",
       "</table>\n",
       "<p>356 rows × 41 columns</p>\n",
       "</div>"
      ],
      "text/plain": [
       "               timestamp  grade  sm_time  sm_accounts  sm_platform_facebook  \\\n",
       "0    10/15/2019 15:51:09    6.0      4.0          5.0                     0   \n",
       "1    10/15/2019 20:16:15    9.0      5.0          5.0                     0   \n",
       "2    10/15/2019 21:47:27    9.0      2.0          NaN                     0   \n",
       "3    10/15/2019 21:57:13    9.0      3.0         10.0                     0   \n",
       "4    10/15/2019 22:20:56    9.0      2.0          6.0                     0   \n",
       "..                   ...    ...      ...          ...                   ...   \n",
       "351    11/5/2019 9:01:55    6.0      3.0          4.0                     0   \n",
       "352   11/5/2019 11:44:52    9.0      1.0          3.0                     0   \n",
       "353   11/5/2019 18:24:31    7.0      1.0          3.0                     0   \n",
       "354   11/6/2019 21:30:38   11.0      4.0          6.0                     0   \n",
       "355   11/7/2019 14:59:47   11.0      3.0          8.0                     0   \n",
       "\n",
       "     sm_platform_instagram  sm_platform_snapchat  sm_platform_tiktok  \\\n",
       "0                        1                     0                   0   \n",
       "1                        1                     0                   1   \n",
       "2                        1                     0                   0   \n",
       "3                        1                     0                   0   \n",
       "4                        1                     0                   0   \n",
       "..                     ...                   ...                 ...   \n",
       "351                      1                     0                   1   \n",
       "352                      0                     0                   0   \n",
       "353                      0                     0                   0   \n",
       "354                      1                     1                   0   \n",
       "355                      1                     0                   0   \n",
       "\n",
       "     sm_platform_twitter  sm_platform_discord  ...  sm_celebs_rubius  \\\n",
       "0                      0                    1  ...                 0   \n",
       "1                      0                    0  ...                 0   \n",
       "2                      0                    1  ...                 0   \n",
       "3                      1                    0  ...                 0   \n",
       "4                      0                    1  ...                 0   \n",
       "..                   ...                  ...  ...               ...   \n",
       "351                    0                    0  ...                 0   \n",
       "352                    1                    0  ...                 0   \n",
       "353                    0                    0  ...                 0   \n",
       "354                    1                    0  ...                 0   \n",
       "355                    0                    0  ...                 0   \n",
       "\n",
       "     sm_celebs_zurita  sm_celebs_beauty  sm_celebs_logan_paul  \\\n",
       "0                   0                 0                     0   \n",
       "1                   0                 0                     0   \n",
       "2                   0                 0                     0   \n",
       "3                   0                 0                     0   \n",
       "4                   0                 0                     0   \n",
       "..                ...               ...                   ...   \n",
       "351                 0                 0                     0   \n",
       "352                 0                 0                     0   \n",
       "353                 0                 0                     0   \n",
       "354                 0                 0                     0   \n",
       "355                 0                 0                     0   \n",
       "\n",
       "     sm_celebs_charles  sm_celebs_perfect  sm_celebs_markiplier  \\\n",
       "0                    0                  0                     0   \n",
       "1                    0                  0                     0   \n",
       "2                    0                  0                     0   \n",
       "3                    0                  0                     0   \n",
       "4                    0                  0                     0   \n",
       "..                 ...                ...                   ...   \n",
       "351                  0                  0                     0   \n",
       "352                  0                  0                     0   \n",
       "353                  0                  0                     0   \n",
       "354                  0                  0                     0   \n",
       "355                  0                  0                     0   \n",
       "\n",
       "     sm_celebs_pewdiepie  sm_strangers  sm_hacked  \n",
       "0                      1           0.0        0.0  \n",
       "1                      0           3.0        0.0  \n",
       "2                      0           2.0        0.0  \n",
       "3                      0           2.0        0.0  \n",
       "4                      0           0.0        0.0  \n",
       "..                   ...           ...        ...  \n",
       "351                    0           0.0        0.0  \n",
       "352                    0           2.0        1.0  \n",
       "353                    0           0.0        0.0  \n",
       "354                    0           2.0        0.0  \n",
       "355                    0           3.0        0.0  \n",
       "\n",
       "[356 rows x 41 columns]"
      ]
     },
     "execution_count": 155,
     "metadata": {},
     "output_type": "execute_result"
    }
   ],
   "source": [
    "df = pd.read_csv('social_media_use_clean.csv')\n",
    "df"
   ]
  },
  {
   "cell_type": "markdown",
   "metadata": {},
   "source": [
    "To make this data work with the functions we wrote for this lab, we'll change columns of this data into lists.\n",
    "\n",
    "💻 Pick one column from the df above and put its name into the code below:"
   ]
  },
  {
   "cell_type": "code",
   "execution_count": 158,
   "metadata": {},
   "outputs": [
    {
     "ename": "KeyError",
     "evalue": "'COLUMN_NAME_HERE'",
     "output_type": "error",
     "traceback": [
      "\u001b[0;31m---------------------------------------------------------------------------\u001b[0m",
      "\u001b[0;31mKeyError\u001b[0m                                  Traceback (most recent call last)",
      "\u001b[0;32m~/Desktop/course_materials/cs9/unit_01/env/lib/python3.8/site-packages/pandas/core/indexes/base.py\u001b[0m in \u001b[0;36mget_loc\u001b[0;34m(self, key, method, tolerance)\u001b[0m\n\u001b[1;32m   3079\u001b[0m             \u001b[0;32mtry\u001b[0m\u001b[0;34m:\u001b[0m\u001b[0;34m\u001b[0m\u001b[0;34m\u001b[0m\u001b[0m\n\u001b[0;32m-> 3080\u001b[0;31m                 \u001b[0;32mreturn\u001b[0m \u001b[0mself\u001b[0m\u001b[0;34m.\u001b[0m\u001b[0m_engine\u001b[0m\u001b[0;34m.\u001b[0m\u001b[0mget_loc\u001b[0m\u001b[0;34m(\u001b[0m\u001b[0mcasted_key\u001b[0m\u001b[0;34m)\u001b[0m\u001b[0;34m\u001b[0m\u001b[0;34m\u001b[0m\u001b[0m\n\u001b[0m\u001b[1;32m   3081\u001b[0m             \u001b[0;32mexcept\u001b[0m \u001b[0mKeyError\u001b[0m \u001b[0;32mas\u001b[0m \u001b[0merr\u001b[0m\u001b[0;34m:\u001b[0m\u001b[0;34m\u001b[0m\u001b[0;34m\u001b[0m\u001b[0m\n",
      "\u001b[0;32mpandas/_libs/index.pyx\u001b[0m in \u001b[0;36mpandas._libs.index.IndexEngine.get_loc\u001b[0;34m()\u001b[0m\n",
      "\u001b[0;32mpandas/_libs/index.pyx\u001b[0m in \u001b[0;36mpandas._libs.index.IndexEngine.get_loc\u001b[0;34m()\u001b[0m\n",
      "\u001b[0;32mpandas/_libs/hashtable_class_helper.pxi\u001b[0m in \u001b[0;36mpandas._libs.hashtable.PyObjectHashTable.get_item\u001b[0;34m()\u001b[0m\n",
      "\u001b[0;32mpandas/_libs/hashtable_class_helper.pxi\u001b[0m in \u001b[0;36mpandas._libs.hashtable.PyObjectHashTable.get_item\u001b[0;34m()\u001b[0m\n",
      "\u001b[0;31mKeyError\u001b[0m: 'COLUMN_NAME_HERE'",
      "\nThe above exception was the direct cause of the following exception:\n",
      "\u001b[0;31mKeyError\u001b[0m                                  Traceback (most recent call last)",
      "\u001b[0;32m<ipython-input-158-329eb7c82ec1>\u001b[0m in \u001b[0;36m<module>\u001b[0;34m\u001b[0m\n\u001b[0;32m----> 1\u001b[0;31m \u001b[0msm_data_list\u001b[0m \u001b[0;34m=\u001b[0m \u001b[0mdf\u001b[0m\u001b[0;34m[\u001b[0m\u001b[0;34m\"COLUMN_NAME_HERE\"\u001b[0m\u001b[0;34m]\u001b[0m\u001b[0;34m.\u001b[0m\u001b[0mdropna\u001b[0m\u001b[0;34m(\u001b[0m\u001b[0;34m)\u001b[0m\u001b[0;34m.\u001b[0m\u001b[0mtolist\u001b[0m\u001b[0;34m(\u001b[0m\u001b[0;34m)\u001b[0m\u001b[0;34m\u001b[0m\u001b[0;34m\u001b[0m\u001b[0m\n\u001b[0m\u001b[1;32m      2\u001b[0m \u001b[0msm_data_list\u001b[0m\u001b[0;34m\u001b[0m\u001b[0;34m\u001b[0m\u001b[0m\n",
      "\u001b[0;32m~/Desktop/course_materials/cs9/unit_01/env/lib/python3.8/site-packages/pandas/core/frame.py\u001b[0m in \u001b[0;36m__getitem__\u001b[0;34m(self, key)\u001b[0m\n\u001b[1;32m   3022\u001b[0m             \u001b[0;32mif\u001b[0m \u001b[0mself\u001b[0m\u001b[0;34m.\u001b[0m\u001b[0mcolumns\u001b[0m\u001b[0;34m.\u001b[0m\u001b[0mnlevels\u001b[0m \u001b[0;34m>\u001b[0m \u001b[0;36m1\u001b[0m\u001b[0;34m:\u001b[0m\u001b[0;34m\u001b[0m\u001b[0;34m\u001b[0m\u001b[0m\n\u001b[1;32m   3023\u001b[0m                 \u001b[0;32mreturn\u001b[0m \u001b[0mself\u001b[0m\u001b[0;34m.\u001b[0m\u001b[0m_getitem_multilevel\u001b[0m\u001b[0;34m(\u001b[0m\u001b[0mkey\u001b[0m\u001b[0;34m)\u001b[0m\u001b[0;34m\u001b[0m\u001b[0;34m\u001b[0m\u001b[0m\n\u001b[0;32m-> 3024\u001b[0;31m             \u001b[0mindexer\u001b[0m \u001b[0;34m=\u001b[0m \u001b[0mself\u001b[0m\u001b[0;34m.\u001b[0m\u001b[0mcolumns\u001b[0m\u001b[0;34m.\u001b[0m\u001b[0mget_loc\u001b[0m\u001b[0;34m(\u001b[0m\u001b[0mkey\u001b[0m\u001b[0;34m)\u001b[0m\u001b[0;34m\u001b[0m\u001b[0;34m\u001b[0m\u001b[0m\n\u001b[0m\u001b[1;32m   3025\u001b[0m             \u001b[0;32mif\u001b[0m \u001b[0mis_integer\u001b[0m\u001b[0;34m(\u001b[0m\u001b[0mindexer\u001b[0m\u001b[0;34m)\u001b[0m\u001b[0;34m:\u001b[0m\u001b[0;34m\u001b[0m\u001b[0;34m\u001b[0m\u001b[0m\n\u001b[1;32m   3026\u001b[0m                 \u001b[0mindexer\u001b[0m \u001b[0;34m=\u001b[0m \u001b[0;34m[\u001b[0m\u001b[0mindexer\u001b[0m\u001b[0;34m]\u001b[0m\u001b[0;34m\u001b[0m\u001b[0;34m\u001b[0m\u001b[0m\n",
      "\u001b[0;32m~/Desktop/course_materials/cs9/unit_01/env/lib/python3.8/site-packages/pandas/core/indexes/base.py\u001b[0m in \u001b[0;36mget_loc\u001b[0;34m(self, key, method, tolerance)\u001b[0m\n\u001b[1;32m   3080\u001b[0m                 \u001b[0;32mreturn\u001b[0m \u001b[0mself\u001b[0m\u001b[0;34m.\u001b[0m\u001b[0m_engine\u001b[0m\u001b[0;34m.\u001b[0m\u001b[0mget_loc\u001b[0m\u001b[0;34m(\u001b[0m\u001b[0mcasted_key\u001b[0m\u001b[0;34m)\u001b[0m\u001b[0;34m\u001b[0m\u001b[0;34m\u001b[0m\u001b[0m\n\u001b[1;32m   3081\u001b[0m             \u001b[0;32mexcept\u001b[0m \u001b[0mKeyError\u001b[0m \u001b[0;32mas\u001b[0m \u001b[0merr\u001b[0m\u001b[0;34m:\u001b[0m\u001b[0;34m\u001b[0m\u001b[0;34m\u001b[0m\u001b[0m\n\u001b[0;32m-> 3082\u001b[0;31m                 \u001b[0;32mraise\u001b[0m \u001b[0mKeyError\u001b[0m\u001b[0;34m(\u001b[0m\u001b[0mkey\u001b[0m\u001b[0;34m)\u001b[0m \u001b[0;32mfrom\u001b[0m \u001b[0merr\u001b[0m\u001b[0;34m\u001b[0m\u001b[0;34m\u001b[0m\u001b[0m\n\u001b[0m\u001b[1;32m   3083\u001b[0m \u001b[0;34m\u001b[0m\u001b[0m\n\u001b[1;32m   3084\u001b[0m         \u001b[0;32mif\u001b[0m \u001b[0mtolerance\u001b[0m \u001b[0;32mis\u001b[0m \u001b[0;32mnot\u001b[0m \u001b[0;32mNone\u001b[0m\u001b[0;34m:\u001b[0m\u001b[0;34m\u001b[0m\u001b[0;34m\u001b[0m\u001b[0m\n",
      "\u001b[0;31mKeyError\u001b[0m: 'COLUMN_NAME_HERE'"
     ]
    }
   ],
   "source": [
    "tu_data_list = df[\"COLUMN_NAME_HERE\"].dropna().tolist()\n",
    "tu_data_list"
   ]
  },
  {
   "cell_type": "markdown",
   "metadata": {},
   "source": [
    "Now, you can use the `sm_data_list` as a parameter for the statiscs functions you wrote.\n",
    "\n",
    "💻 Try calculating the mean, median, mode, IQR, and some percentiles below:"
   ]
  },
  {
   "cell_type": "code",
   "execution_count": 160,
   "metadata": {},
   "outputs": [
    {
     "data": {
      "text/plain": [
       "6673127788496209.0"
      ]
     },
     "execution_count": 160,
     "metadata": {},
     "output_type": "execute_result"
    }
   ],
   "source": [
    "calculate_mean(sorted(tu_data_list))"
   ]
  },
  {
   "cell_type": "code",
   "execution_count": null,
   "metadata": {},
   "outputs": [],
   "source": []
  }
 ],
 "metadata": {
  "kernelspec": {
   "display_name": "Python 3",
   "language": "python",
   "name": "python3"
  },
  "language_info": {
   "codemirror_mode": {
    "name": "ipython",
    "version": 3
   },
   "file_extension": ".py",
   "mimetype": "text/x-python",
   "name": "python",
   "nbconvert_exporter": "python",
   "pygments_lexer": "ipython3",
   "version": "3.8.5"
  },
  "toc": {
   "base_numbering": 1,
   "nav_menu": {},
   "number_sections": true,
   "sideBar": true,
   "skip_h1_title": false,
   "title_cell": "Table of Contents",
   "title_sidebar": "Contents",
   "toc_cell": false,
   "toc_position": {},
   "toc_section_display": true,
   "toc_window_display": true
  },
  "varInspector": {
   "cols": {
    "lenName": 16,
    "lenType": 16,
    "lenVar": 40
   },
   "kernels_config": {
    "python": {
     "delete_cmd_postfix": "",
     "delete_cmd_prefix": "del ",
     "library": "var_list.py",
     "varRefreshCmd": "print(var_dic_list())"
    },
    "r": {
     "delete_cmd_postfix": ") ",
     "delete_cmd_prefix": "rm(",
     "library": "var_list.r",
     "varRefreshCmd": "cat(var_dic_list()) "
    }
   },
   "types_to_exclude": [
    "module",
    "function",
    "builtin_function_or_method",
    "instance",
    "_Feature"
   ],
   "window_display": false
  }
 },
 "nbformat": 4,
 "nbformat_minor": 2
}
