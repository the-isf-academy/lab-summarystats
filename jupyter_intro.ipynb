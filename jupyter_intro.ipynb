{
 "cells": [
  {
   "cell_type": "markdown",
   "metadata": {},
   "source": [
    "# Welcome to a Jupyter notebook!\n",
    "\n",
    "Jupyter Notebooks are interactive interfaces which mix python code with text and output, like if your python files in Atom could talk back to you.\n",
    "\n",
    "This notebook will walk you through the basics of using Jupyter Notebooks."
   ]
  },
  {
   "cell_type": "markdown",
   "metadata": {},
   "source": [
    "## First things first *(only do this step once)*\n",
    "\n",
    "Before you do anything else in this notebook, 💻 **stop and save this file using `cmd/ctrl+s`.**\n",
    "\n",
    "We actually want to close this notebook and open a very similiar one you just created by saving this file. After closing this file, you will be returned to the Jupyter file navigator. There, you should see a new notebook called `jupyter_intro.ipynb`. \n",
    "\n",
    "💻 **Once you close this notebook, click on the `jupyter_intro.ipynb` file to open the notebook.**\n",
    "\n",
    "💻 **Click on `File > Close and Halt` to close this notebook.**\n",
    "\n",
    "We'll talk more about what you just did at the end of this notebook."
   ]
  },
  {
   "cell_type": "markdown",
   "metadata": {},
   "source": [
    "## Running python code\n",
    "\n",
    "One of the most interesting features of Jupyter notebooks is that they combine code with text almost seemlessly in boxes called cells (the text you're reading right now is in a cell).\n",
    "\n",
    "So far, you've only seen text cells, but just below is a code cell which contains real, live runnable python code.\n",
    "\n",
    "💻 **To run it, click on the box and type `shift+enter`.**"
   ]
  },
  {
   "cell_type": "code",
   "execution_count": null,
   "metadata": {},
   "outputs": [],
   "source": [
    "pizza_company = \"Pizza Hut\"\n",
    "\"{} makes the best pizza in Hong Kong 🍕\".format(pizza_company)"
   ]
  },
  {
   "cell_type": "markdown",
   "metadata": {},
   "source": [
    "This code does the same thing as it would if you typed it in Atom and ran the code from the Terminal. But here, the code's output in *inline* just below the cell.\n",
    "\n",
    "And the best part? You can edit the code and run it again *in real time*. \n",
    "\n",
    "💻 **Change the `pizza_company` variable above to your favorite pizza place and run the code again with `shift+enter`.**"
   ]
  },
  {
   "cell_type": "markdown",
   "metadata": {},
   "source": [
    "Pretty cool, huh?\n",
    "\n",
    "Better yet, the state of your program persists throughout the entire notebook. That means that the variable you defined above can also be used in the code cell below.\n",
    "\n",
    "💻 **Run the cell below to see.**"
   ]
  },
  {
   "cell_type": "code",
   "execution_count": null,
   "metadata": {},
   "outputs": [],
   "source": [
    "\"I wonder what toppings {} has 🤔\".format(pizza_company)"
   ]
  },
  {
   "cell_type": "markdown",
   "metadata": {},
   "source": [
    "However, since the code runs in cells in Jupyter notebooks, the order that you run the cells in matters. For example, if you try to run a code cell that depends on the output of another cell, you have to run the dependent cell second.\n",
    "\n",
    "💻 **Run the two cells below out of order. What do you think will happen?**"
   ]
  },
  {
   "cell_type": "code",
   "execution_count": null,
   "metadata": {},
   "outputs": [],
   "source": [
    "# run me second\n",
    "favorite_topping = \"pineapple\""
   ]
  },
  {
   "cell_type": "code",
   "execution_count": null,
   "metadata": {},
   "outputs": [],
   "source": [
    "# run me first\n",
    "\"I hope {} has my favorite topping {}\".format(pizza_company, favorite_topping)"
   ]
  },
  {
   "cell_type": "markdown",
   "metadata": {},
   "source": [
    "You got an error message on the `print` statement, right? \n",
    "\n",
    "Now, 💻 **run that cell again (after you've run the `favorite_topping` cell)** and the error should go away.\n",
    "\n",
    "This is a really important idea in Jupyter notebooks. One more time for the people in the back: 🗣 **THE ORDER YOU RUN YOUR CELLS IN MATTERS** 🗣\n",
    "\n",
    "You can tell if a cell has been run by the `In[ ]` to the left of a cell. \n",
    "   - `In[ ]` means the cell hasn't been run\n",
    "   - `In[*]` means the cell is running\n",
    "   - `In[n]` means the cell was the `n`th cell to be run (and thus ahs already been run)"
   ]
  },
  {
   "cell_type": "markdown",
   "metadata": {},
   "source": [
    "## Importing modules\n",
    "Just like when you're writing Python code in Atom, you can import functions from modules in Jupyter notebooks. The import statement below imports two functions about pizza toppings from the `pizza_toppings` module ( 💻 **make sure you run the cell before moving on**)."
   ]
  },
  {
   "cell_type": "code",
   "execution_count": null,
   "metadata": {},
   "outputs": [],
   "source": [
    "from pizza_toppings import top_toppings, topping_rank"
   ]
  },
  {
   "cell_type": "markdown",
   "metadata": {},
   "source": [
    "Now you can use the `top_toppings` and `topping_rank` function anywhere in the notebook!\n",
    "\n",
    "(Note that in Jupyter notebooks, import statements are usually put in code blocks separate from the rest of the code.)\n",
    "\n",
    "`top_toppings()` is a function that returns a list of the top 10 pizza toppings from a dataset stored in the `pizza_toppings.py` file. \n",
    "\n",
    "To see the top pizza toppings, first we need to store the return value of that function so we have access to that list. 💻 **Run the code block below to store the return value of `top_toppinggs()` in the `top_toppings_list` variable.**"
   ]
  },
  {
   "cell_type": "code",
   "execution_count": null,
   "metadata": {},
   "outputs": [],
   "source": [
    "top_toppings_list = top_toppings()"
   ]
  },
  {
   "cell_type": "markdown",
   "metadata": {},
   "source": [
    "Now, you probably want to see what that list contains. Jupyter notebooks offer an easy way to look inside of data structures.\n",
    "\n",
    "💻 **Just type the name of the variable or the data structure you want to see and run the cell.** No need to do anything else."
   ]
  },
  {
   "cell_type": "code",
   "execution_count": null,
   "metadata": {},
   "outputs": [],
   "source": [
    "top_toppings_list"
   ]
  },
  {
   "cell_type": "markdown",
   "metadata": {},
   "source": [
    "After you've imported functions into a Jupyter notebook, you can call them anywhere in the notebook. \n",
    "\n",
    "The `topping_rank()` function takes a topping an returns the rank of the toppoing according to the dataset in the `pizza_toppings.py` file. \n",
    "\n",
    "**Run the cell below to use the `topping_rank()` function to check what rank your favorite topping is.**"
   ]
  },
  {
   "cell_type": "code",
   "execution_count": null,
   "metadata": {},
   "outputs": [],
   "source": [
    "top_toppings_list = top_toppings()\n",
    "print(\"The top {} pizza toppings are:\".format(len(top_toppings_list)))\n",
    "for i in range(len(top_toppings_list)):\n",
    "    print('{}. {}'.format(i+1, top_toppings_list[i]))\n",
    "\n",
    "my_topping_rank = topping_rank(favorite_topping)    \n",
    "print(\"My favorite pizza topping, {}, is {}\".format(favorite_topping, my_topping_rank))"
   ]
  },
  {
   "cell_type": "markdown",
   "metadata": {},
   "source": [
    "## Using the turtle\n",
    "\n",
    "Fortunately for us, you can also run the turtle (and thus all of the code we've already made) from a notebook, with a couple minor tweaks.\n",
    "\n",
    "💻 **Import the functions from the turtle module like normal.**\n"
   ]
  },
  {
   "cell_type": "code",
   "execution_count": null,
   "metadata": {},
   "outputs": [],
   "source": [
    "from turtle import clearscreen, forward, right, goto"
   ]
  },
  {
   "cell_type": "markdown",
   "metadata": {},
   "source": [
    "💻 **Now you can run turtle commands just like you have before.**"
   ]
  },
  {
   "cell_type": "code",
   "execution_count": null,
   "metadata": {},
   "outputs": [],
   "source": [
    "for i in range(4):\n",
    "    forward(30)\n",
    "    right(90)"
   ]
  },
  {
   "cell_type": "markdown",
   "metadata": {},
   "source": [
    "Just like all code in notebooks, you can run turtle code in different cells.\n",
    "\n",
    "💻 **Try running the below and then the code above again.**"
   ]
  },
  {
   "cell_type": "code",
   "execution_count": null,
   "metadata": {},
   "outputs": [],
   "source": [
    "goto(-20, 20)"
   ]
  },
  {
   "cell_type": "markdown",
   "metadata": {},
   "source": [
    "Sometimes, we'll want to start with a fresh canvas. Rather than closing the notebook and running the entire thing again, we can use the `clearscreen()` function of the turtle.\n",
    "\n",
    "💻 **Run `clearscreen()` and the more turtle code to see.**"
   ]
  },
  {
   "cell_type": "code",
   "execution_count": null,
   "metadata": {},
   "outputs": [],
   "source": [
    "clearscreen()"
   ]
  },
  {
   "cell_type": "code",
   "execution_count": null,
   "metadata": {},
   "outputs": [],
   "source": [
    "# try out some turtle code here\n",
    "\n"
   ]
  },
  {
   "cell_type": "markdown",
   "metadata": {},
   "source": [
    "## Putting it all together\n",
    "\n",
    "Now that you're starting to get the hang of these notebooks, let's talk about the workflow you'll use for working with them."
   ]
  },
  {
   "cell_type": "markdown",
   "metadata": {},
   "source": [
    "### Opening\n",
    "\n",
    "Open notebooks using the `jupyer notebook` Terminal command in a directory containing `.ipynb` or `.Rmd` files. This will open the file navigator where you can choose which notebooks you want to open"
   ]
  },
  {
   "cell_type": "markdown",
   "metadata": {},
   "source": [
    "### Saving\n",
    "\n",
    "Save your files using the `cmd/ctrl+s` keys. This will create 2 versions of your files a `.ipynb` and a `.Rmb` version (more on why later).\n",
    "\n",
    "Jupyter will also auto save your file every 2 minutes, but you should `cmd/ctrl+s` before you close your notebook."
   ]
  },
  {
   "cell_type": "markdown",
   "metadata": {},
   "source": [
    "### Shutting down\n",
    "\n",
    "When you're done working on a notebook, you can close the notebook by clicking `File > Close and Halt`. You can shut down Jupyer by using the `ctrl+c` keys in the Terminal window you launched Jupyter from.\n",
    "\n",
    "Another important feature of `.ipynb` files is that they save the state of your program. *This means you don't need to re-run all of the cells in a notebook every time you open it.*"
   ]
  },
  {
   "cell_type": "markdown",
   "metadata": {},
   "source": [
    "### Jupyter and git version control\n",
    "\n",
    "When you want to commit a version of a notebook you are working on the git. We will commit only the `.Rmb` version (and not the `.ipynb` version). `.Rmb` do not save the state of your program which will simplify what you are storing on GitHub (which will save you a lot of headaches, we promise). This is why we need two versions of each notebook on your local machine.\n",
    "\n",
    "The git repos you clone for this class will already be set up to only commit the `.Rmb` files. But, when you clone or update a repo from GitHub, you'll only get the `.Rmb` files. This means you'll need to convert them to `.ipynb` files before you start using them.\n",
    "\n",
    "Fortunately, this is really easy. All you need to do is open a `.Rmb` notebook and save it. This will automatically sync the `.ipynb` file for you and you'll be ready to open the `.ipynb` file and start working. This is actually what you did to this notebook in the very beginning!\n",
    "\n",
    "🛑 👀 🛑 **TL;DR: *Every time* you clone or pull a repo from github and before you start working in a notebook:**\n",
    "   - Open the `.Rmb` version of the notebook\n",
    "   - Save the file\n",
    "   - Close the file\n",
    "   - Open the `.ipynb` file"
   ]
  },
  {
   "cell_type": "code",
   "execution_count": null,
   "metadata": {},
   "outputs": [],
   "source": []
  }
 ],
 "metadata": {
  "jupytext": {
   "formats": "ipynb,Rmd",
   "text_representation": {
    "extension": ".Rmd",
    "format_name": "rmarkdown",
    "format_version": "1.1",
    "jupytext_version": "1.2.4"
   }
  },
  "kernelspec": {
   "display_name": "Python 3",
   "language": "python",
   "name": "python3"
  },
  "language_info": {
   "codemirror_mode": {
    "name": "ipython",
    "version": 3
   },
   "file_extension": ".py",
   "mimetype": "text/x-python",
   "name": "python",
   "nbconvert_exporter": "python",
   "pygments_lexer": "ipython3",
   "version": "3.8.5"
  },
  "toc": {
   "base_numbering": 1,
   "nav_menu": {},
   "number_sections": true,
   "sideBar": true,
   "skip_h1_title": false,
   "title_cell": "Table of Contents",
   "title_sidebar": "Contents",
   "toc_cell": false,
   "toc_position": {},
   "toc_section_display": true,
   "toc_window_display": false
  },
  "varInspector": {
   "cols": {
    "lenName": 16,
    "lenType": 16,
    "lenVar": 40
   },
   "kernels_config": {
    "python": {
     "delete_cmd_postfix": "",
     "delete_cmd_prefix": "del ",
     "library": "var_list.py",
     "varRefreshCmd": "print(var_dic_list())"
    },
    "r": {
     "delete_cmd_postfix": ") ",
     "delete_cmd_prefix": "rm(",
     "library": "var_list.r",
     "varRefreshCmd": "cat(var_dic_list()) "
    }
   },
   "types_to_exclude": [
    "module",
    "function",
    "builtin_function_or_method",
    "instance",
    "_Feature"
   ],
   "window_display": false
  }
 },
 "nbformat": 4,
 "nbformat_minor": 4
}
