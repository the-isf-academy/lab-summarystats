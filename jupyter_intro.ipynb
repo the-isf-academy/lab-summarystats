{
 "cells": [
  {
   "cell_type": "markdown",
   "metadata": {},
   "source": [
    "# Welcome to a Jupyter notebook!\n",
    "\n",
    "Jupyter Notebooks are interactive interfaces which mix python code with text and output, like if your python files in Atom could talk back to you.\n",
    "\n",
    "This notebook will walk you through the basics of using Jupyter Notebooks."
   ]
  },
  {
   "cell_type": "markdown",
   "metadata": {},
   "source": [
    "## Running python code\n",
    "\n",
    "One of the most interesting features of Jupyter notebooks is that they combine code with text almost seemlessly in boxes called cells (the text you're reading right now is in a cell).\n",
    "\n",
    "So far, you've only seen text cells, but just below is a code cell which contains real, live runnable python code.\n",
    "\n",
    "💻 **To run it, click on the box and type `shift+enter`.**"
   ]
  },
  {
   "cell_type": "code",
   "execution_count": null,
   "metadata": {
    "ExecuteTime": {
     "end_time": "2021-01-20T05:23:59.950310Z",
     "start_time": "2021-01-20T05:23:59.943564Z"
    }
   },
   "outputs": [],
   "source": [
    "pizza_company = \"Pizza Hut\"\n",
    "\"{} makes the best pizza in Hong Kong 🍕\".format(pizza_company)"
   ]
  },
  {
   "cell_type": "markdown",
   "metadata": {},
   "source": [
    "This code does the same thing as it would if you typed it in Atom and ran the code from the Terminal. But here, the code's output in *inline* just below the cell.\n",
    "\n",
    "And the best part? You can edit the code and run it again *in real time*. \n",
    "\n",
    "💻 **Change the `pizza_company` variable above to your favorite pizza place and run the code again with `shift+enter`.**"
   ]
  },
  {
   "cell_type": "markdown",
   "metadata": {},
   "source": [
    "Pretty cool, huh?\n",
    "\n",
    "Better yet, the state of your program persists throughout the entire notebook. That means that the variable you defined above can also be used in the code cell below.\n",
    "\n",
    "💻 **Run the cell below to see.**"
   ]
  },
  {
   "cell_type": "code",
   "execution_count": null,
   "metadata": {
    "ExecuteTime": {
     "end_time": "2021-01-20T05:24:11.447478Z",
     "start_time": "2021-01-20T05:24:11.442183Z"
    }
   },
   "outputs": [],
   "source": [
    "\"I wonder what toppings {} has 🤔\".format(pizza_company)"
   ]
  },
  {
   "cell_type": "markdown",
   "metadata": {},
   "source": [
    "However, since the code runs in cells in Jupyter notebooks, the order that you run the cells in matters. For example, if you try to run a code cell that depends on the output of another cell, you have to run the dependent cell second.\n",
    "\n",
    "💻 **Run the two cells below out of order. What do you think will happen?**"
   ]
  },
  {
   "cell_type": "code",
   "execution_count": null,
   "metadata": {
    "ExecuteTime": {
     "end_time": "2021-01-20T05:24:40.054456Z",
     "start_time": "2021-01-20T05:24:40.047704Z"
    }
   },
   "outputs": [],
   "source": [
    "# run me second\n",
    "favorite_topping = \"pineapple\""
   ]
  },
  {
   "cell_type": "code",
   "execution_count": null,
   "metadata": {
    "ExecuteTime": {
     "end_time": "2021-01-20T05:24:41.066241Z",
     "start_time": "2021-01-20T05:24:41.059166Z"
    }
   },
   "outputs": [],
   "source": [
    "# run me first\n",
    "\"I hope {} has my favorite topping {}\".format(pizza_company, favorite_topping)"
   ]
  },
  {
   "cell_type": "markdown",
   "metadata": {},
   "source": [
    "You got an error message on the `print` statement, right? \n",
    "\n",
    "Now, 💻 **run that cell again (after you've run the `favorite_topping` cell)** and the error should go away.\n",
    "\n",
    "This is a really important idea in Jupyter notebooks. One more time for the people in the back: 🗣 **THE ORDER YOU RUN YOUR CELLS IN MATTERS** 🗣\n",
    "\n",
    "You can tell if a cell has been run by the `In[ ]` to the left of a cell. \n",
    "   - `In[ ]` means the cell hasn't been run\n",
    "   - `In[*]` means the cell is running\n",
    "   - `In[n]` means the cell was the `n`th cell to be run (and thus has already been run)"
   ]
  },
  {
   "cell_type": "markdown",
   "metadata": {},
   "source": [
    "## Importing modules\n",
    "Just like when you're writing Python code in Atom, you can import functions from modules in Jupyter notebooks. The import statement below imports two things from the `pizza_toppings` module ( 💻 **make sure you run the cell before moving on**)."
   ]
  },
  {
   "cell_type": "code",
   "execution_count": null,
   "metadata": {
    "ExecuteTime": {
     "end_time": "2021-01-20T05:31:29.052074Z",
     "start_time": "2021-01-20T05:31:29.048832Z"
    }
   },
   "outputs": [],
   "source": [
    "from pizza_toppings import top_toppings_list, topping_rank"
   ]
  },
  {
   "cell_type": "markdown",
   "metadata": {},
   "source": [
    "Now you can use the `top_toppings` list and the `topping_rank` function anywhere in the notebook!\n",
    "\n",
    "(Note that in Jupyter notebooks, import statements are usually put in code blocks separate from the rest of the code.)\n",
    "\n",
    "`top_toppings` is a list of the top 10 pizza toppings from a dataset stored in the `pizza_toppings.py` file. You probably want to see what that list contains. Jupyter notebooks offer an easy way to look inside of data structures.\n",
    "\n",
    "💻 **Just type the name of the variable or the data structure you want to see and run the cell.** No need to do anything else."
   ]
  },
  {
   "cell_type": "code",
   "execution_count": null,
   "metadata": {
    "ExecuteTime": {
     "end_time": "2021-01-20T05:31:29.747756Z",
     "start_time": "2021-01-20T05:31:29.735652Z"
    }
   },
   "outputs": [],
   "source": [
    "top_toppings_list"
   ]
  },
  {
   "cell_type": "markdown",
   "metadata": {},
   "source": [
    "After you've imported things into a Jupyter notebook, you can use them anywhere in the notebook. \n",
    "\n",
    "The `topping_rank()` function takes a topping an returns the rank of the topping according to the dataset in the `pizza_toppings.py` file. \n",
    "\n",
    "**Run the cell below to use the `topping_rank()` function to check what rank your favorite topping is.**"
   ]
  },
  {
   "cell_type": "code",
   "execution_count": null,
   "metadata": {
    "ExecuteTime": {
     "end_time": "2021-01-20T05:31:36.750023Z",
     "start_time": "2021-01-20T05:31:36.738893Z"
    }
   },
   "outputs": [],
   "source": [
    "print(\"The top {} pizza toppings are:\".format(len(top_toppings_list)))\n",
    "for i in range(len(top_toppings_list)):\n",
    "    print('{}. {}'.format(i+1, top_toppings_list[i]))\n",
    "\n",
    "my_topping_rank = topping_rank(favorite_topping)    \n",
    "print(\"My favorite pizza topping, {}, is {}\".format(favorite_topping, my_topping_rank))"
   ]
  },
  {
   "cell_type": "markdown",
   "metadata": {},
   "source": [
    "## Putting it all together\n",
    "\n",
    "Now that you're starting to get the hang of these notebooks, let's talk about the workflow you'll use for working with them."
   ]
  },
  {
   "cell_type": "markdown",
   "metadata": {},
   "source": [
    "### Opening\n",
    "\n",
    "Open notebooks using the `jupyer notebook` Terminal command in a directory containing `.ipynb` files. This will open the file navigator where you can choose which notebooks you want to open"
   ]
  },
  {
   "cell_type": "markdown",
   "metadata": {},
   "source": [
    "### Saving\n",
    "\n",
    "Save your files using the `cmd+s` keys.\n",
    "\n",
    "*Jupyter will also auto save your file every 2 minutes, but you should `cmd+s` before you close your notebook.*"
   ]
  },
  {
   "cell_type": "markdown",
   "metadata": {},
   "source": [
    "### Shutting down\n",
    "\n",
    "When you're done working on a notebook, you can close the notebook by clicking `File > Close and Halt`. You can shut down Jupyer by using the `ctrl+c` keys in the Terminal window you launched Jupyter from.\n",
    "\n",
    "Another important feature of `.ipynb` files is that they save the state of your program. *This means you don't need to re-run all of the cells in a notebook every time you open it.*"
   ]
  },
  {
   "cell_type": "markdown",
   "metadata": {},
   "source": [
    "### Jupyter and git version control\n",
    "\n",
    "You can use git version control to push versions of you notebooks to Github. Github will even render Jupyter Notebooks in a nice format if you [open them in a web browser](https://github.com/the-isf-academy/lab-summarystats/blob/main/jupyter_intro.ipynb)."
   ]
  },
  {
   "cell_type": "code",
   "execution_count": null,
   "metadata": {},
   "outputs": [],
   "source": []
  }
 ],
 "metadata": {
  "kernelspec": {
   "display_name": "Python 3",
   "language": "python",
   "name": "python3"
  },
  "language_info": {
   "codemirror_mode": {
    "name": "ipython",
    "version": 3
   },
   "file_extension": ".py",
   "mimetype": "text/x-python",
   "name": "python",
   "nbconvert_exporter": "python",
   "pygments_lexer": "ipython3",
   "version": "3.8.5"
  },
  "toc": {
   "base_numbering": 1,
   "nav_menu": {},
   "number_sections": true,
   "sideBar": true,
   "skip_h1_title": false,
   "title_cell": "Table of Contents",
   "title_sidebar": "Contents",
   "toc_cell": false,
   "toc_position": {},
   "toc_section_display": true,
   "toc_window_display": false
  },
  "varInspector": {
   "cols": {
    "lenName": 16,
    "lenType": 16,
    "lenVar": 40
   },
   "kernels_config": {
    "python": {
     "delete_cmd_postfix": "",
     "delete_cmd_prefix": "del ",
     "library": "var_list.py",
     "varRefreshCmd": "print(var_dic_list())"
    },
    "r": {
     "delete_cmd_postfix": ") ",
     "delete_cmd_prefix": "rm(",
     "library": "var_list.r",
     "varRefreshCmd": "cat(var_dic_list()) "
    }
   },
   "types_to_exclude": [
    "module",
    "function",
    "builtin_function_or_method",
    "instance",
    "_Feature"
   ],
   "window_display": false
  }
 },
 "nbformat": 4,
 "nbformat_minor": 4
}
